{
 "cells": [
  {
   "cell_type": "code",
   "execution_count": 1,
   "id": "16a85e4a-cfe9-4b8b-a235-65180b65e9d8",
   "metadata": {},
   "outputs": [],
   "source": [
    "#Load the libraries\n",
    "import pandas as pd\n",
    "import numpy as np\n",
    "import matplotlib.pyplot as plt\n",
    "import seaborn as sns\n",
    "from sklearn.neighbors import NearestNeighbors\n",
    "from sklearn.metrics.pairwise import cosine_similarity\n",
    "from sklearn.model_selection import train_test_split"
   ]
  },
  {
   "cell_type": "code",
   "execution_count": 2,
   "id": "e3c9b940-dc50-4c18-9595-58f3df00c276",
   "metadata": {},
   "outputs": [
    {
     "name": "stdout",
     "output_type": "stream",
     "text": [
      "           UserId    ProductId  Rating   Timestamp\n",
      "0       User44084  Product8646       3  1513224892\n",
      "1       User32096  Product2879       3  1396046321\n",
      "2       User48182  Product2150       3  1430840372\n",
      "3       User48214  Product4226       4  1264279238\n",
      "4       User27633  Product5750       3  1530777749\n",
      "...           ...          ...     ...         ...\n",
      "100071  User28844  Product7689       5  1528133693\n",
      "100072  User24768  Product6914       5  1627781180\n",
      "100073   User9547  Product2205       3  1501029965\n",
      "100074  User47066  Product4386       2  1311893418\n",
      "100075  User26984  Product3638       4  1274091928\n",
      "\n",
      "[100076 rows x 4 columns]\n"
     ]
    }
   ],
   "source": [
    "data = pd.read_csv(\"Product_Ratings_Dataset.xls\")\n",
    "print(data)"
   ]
  },
  {
   "cell_type": "code",
   "execution_count": 3,
   "id": "96ceb107-43e5-416d-8491-ee3cb35d28ec",
   "metadata": {},
   "outputs": [
    {
     "data": {
      "text/html": [
       "<div>\n",
       "<style scoped>\n",
       "    .dataframe tbody tr th:only-of-type {\n",
       "        vertical-align: middle;\n",
       "    }\n",
       "\n",
       "    .dataframe tbody tr th {\n",
       "        vertical-align: top;\n",
       "    }\n",
       "\n",
       "    .dataframe thead th {\n",
       "        text-align: right;\n",
       "    }\n",
       "</style>\n",
       "<table border=\"1\" class=\"dataframe\">\n",
       "  <thead>\n",
       "    <tr style=\"text-align: right;\">\n",
       "      <th></th>\n",
       "      <th>UserId</th>\n",
       "      <th>ProductId</th>\n",
       "      <th>Rating</th>\n",
       "      <th>Timestamp</th>\n",
       "    </tr>\n",
       "  </thead>\n",
       "  <tbody>\n",
       "    <tr>\n",
       "      <th>100071</th>\n",
       "      <td>User28844</td>\n",
       "      <td>Product7689</td>\n",
       "      <td>5</td>\n",
       "      <td>1528133693</td>\n",
       "    </tr>\n",
       "    <tr>\n",
       "      <th>100072</th>\n",
       "      <td>User24768</td>\n",
       "      <td>Product6914</td>\n",
       "      <td>5</td>\n",
       "      <td>1627781180</td>\n",
       "    </tr>\n",
       "    <tr>\n",
       "      <th>100073</th>\n",
       "      <td>User9547</td>\n",
       "      <td>Product2205</td>\n",
       "      <td>3</td>\n",
       "      <td>1501029965</td>\n",
       "    </tr>\n",
       "    <tr>\n",
       "      <th>100074</th>\n",
       "      <td>User47066</td>\n",
       "      <td>Product4386</td>\n",
       "      <td>2</td>\n",
       "      <td>1311893418</td>\n",
       "    </tr>\n",
       "    <tr>\n",
       "      <th>100075</th>\n",
       "      <td>User26984</td>\n",
       "      <td>Product3638</td>\n",
       "      <td>4</td>\n",
       "      <td>1274091928</td>\n",
       "    </tr>\n",
       "  </tbody>\n",
       "</table>\n",
       "</div>"
      ],
      "text/plain": [
       "           UserId    ProductId  Rating   Timestamp\n",
       "100071  User28844  Product7689       5  1528133693\n",
       "100072  User24768  Product6914       5  1627781180\n",
       "100073   User9547  Product2205       3  1501029965\n",
       "100074  User47066  Product4386       2  1311893418\n",
       "100075  User26984  Product3638       4  1274091928"
      ]
     },
     "execution_count": 3,
     "metadata": {},
     "output_type": "execute_result"
    }
   ],
   "source": [
    "data.tail()"
   ]
  },
  {
   "cell_type": "code",
   "execution_count": 4,
   "id": "ebeb9520-4a85-4e3e-a1a3-0e14b42b1c5d",
   "metadata": {},
   "outputs": [
    {
     "name": "stdout",
     "output_type": "stream",
     "text": [
      "<class 'pandas.core.frame.DataFrame'>\n",
      "RangeIndex: 100076 entries, 0 to 100075\n",
      "Data columns (total 4 columns):\n",
      " #   Column     Non-Null Count   Dtype \n",
      "---  ------     --------------   ----- \n",
      " 0   UserId     100076 non-null  object\n",
      " 1   ProductId  100076 non-null  object\n",
      " 2   Rating     100076 non-null  int64 \n",
      " 3   Timestamp  100076 non-null  int64 \n",
      "dtypes: int64(2), object(2)\n",
      "memory usage: 3.1+ MB\n"
     ]
    }
   ],
   "source": [
    "data.info()"
   ]
  },
  {
   "cell_type": "code",
   "execution_count": 5,
   "id": "d1279863-cf91-4ace-a8f8-4fa3b1b837f3",
   "metadata": {},
   "outputs": [
    {
     "data": {
      "text/html": [
       "<div>\n",
       "<style scoped>\n",
       "    .dataframe tbody tr th:only-of-type {\n",
       "        vertical-align: middle;\n",
       "    }\n",
       "\n",
       "    .dataframe tbody tr th {\n",
       "        vertical-align: top;\n",
       "    }\n",
       "\n",
       "    .dataframe thead th {\n",
       "        text-align: right;\n",
       "    }\n",
       "</style>\n",
       "<table border=\"1\" class=\"dataframe\">\n",
       "  <thead>\n",
       "    <tr style=\"text-align: right;\">\n",
       "      <th></th>\n",
       "      <th>UserId</th>\n",
       "      <th>ProductId</th>\n",
       "      <th>Rating</th>\n",
       "      <th>Timestamp</th>\n",
       "    </tr>\n",
       "  </thead>\n",
       "  <tbody>\n",
       "    <tr>\n",
       "      <th>0</th>\n",
       "      <td>User44084</td>\n",
       "      <td>Product8646</td>\n",
       "      <td>3</td>\n",
       "      <td>1513224892</td>\n",
       "    </tr>\n",
       "    <tr>\n",
       "      <th>1</th>\n",
       "      <td>User32096</td>\n",
       "      <td>Product2879</td>\n",
       "      <td>3</td>\n",
       "      <td>1396046321</td>\n",
       "    </tr>\n",
       "    <tr>\n",
       "      <th>2</th>\n",
       "      <td>User48182</td>\n",
       "      <td>Product2150</td>\n",
       "      <td>3</td>\n",
       "      <td>1430840372</td>\n",
       "    </tr>\n",
       "    <tr>\n",
       "      <th>3</th>\n",
       "      <td>User48214</td>\n",
       "      <td>Product4226</td>\n",
       "      <td>4</td>\n",
       "      <td>1264279238</td>\n",
       "    </tr>\n",
       "    <tr>\n",
       "      <th>4</th>\n",
       "      <td>User27633</td>\n",
       "      <td>Product5750</td>\n",
       "      <td>3</td>\n",
       "      <td>1530777749</td>\n",
       "    </tr>\n",
       "    <tr>\n",
       "      <th>...</th>\n",
       "      <td>...</td>\n",
       "      <td>...</td>\n",
       "      <td>...</td>\n",
       "      <td>...</td>\n",
       "    </tr>\n",
       "    <tr>\n",
       "      <th>100071</th>\n",
       "      <td>User28844</td>\n",
       "      <td>Product7689</td>\n",
       "      <td>5</td>\n",
       "      <td>1528133693</td>\n",
       "    </tr>\n",
       "    <tr>\n",
       "      <th>100072</th>\n",
       "      <td>User24768</td>\n",
       "      <td>Product6914</td>\n",
       "      <td>5</td>\n",
       "      <td>1627781180</td>\n",
       "    </tr>\n",
       "    <tr>\n",
       "      <th>100073</th>\n",
       "      <td>User9547</td>\n",
       "      <td>Product2205</td>\n",
       "      <td>3</td>\n",
       "      <td>1501029965</td>\n",
       "    </tr>\n",
       "    <tr>\n",
       "      <th>100074</th>\n",
       "      <td>User47066</td>\n",
       "      <td>Product4386</td>\n",
       "      <td>2</td>\n",
       "      <td>1311893418</td>\n",
       "    </tr>\n",
       "    <tr>\n",
       "      <th>100075</th>\n",
       "      <td>User26984</td>\n",
       "      <td>Product3638</td>\n",
       "      <td>4</td>\n",
       "      <td>1274091928</td>\n",
       "    </tr>\n",
       "  </tbody>\n",
       "</table>\n",
       "<p>100076 rows × 4 columns</p>\n",
       "</div>"
      ],
      "text/plain": [
       "           UserId    ProductId  Rating   Timestamp\n",
       "0       User44084  Product8646       3  1513224892\n",
       "1       User32096  Product2879       3  1396046321\n",
       "2       User48182  Product2150       3  1430840372\n",
       "3       User48214  Product4226       4  1264279238\n",
       "4       User27633  Product5750       3  1530777749\n",
       "...           ...          ...     ...         ...\n",
       "100071  User28844  Product7689       5  1528133693\n",
       "100072  User24768  Product6914       5  1627781180\n",
       "100073   User9547  Product2205       3  1501029965\n",
       "100074  User47066  Product4386       2  1311893418\n",
       "100075  User26984  Product3638       4  1274091928\n",
       "\n",
       "[100076 rows x 4 columns]"
      ]
     },
     "execution_count": 5,
     "metadata": {},
     "output_type": "execute_result"
    }
   ],
   "source": [
    "data"
   ]
  },
  {
   "cell_type": "code",
   "execution_count": 6,
   "id": "647e29a8-2d5b-4eeb-bb16-56c2fa0181c8",
   "metadata": {},
   "outputs": [
    {
     "name": "stdout",
     "output_type": "stream",
     "text": [
      "<class 'pandas.core.frame.DataFrame'>\n",
      "(100076, 4)\n"
     ]
    }
   ],
   "source": [
    "print(type(data))\n",
    "print(data.shape)"
   ]
  },
  {
   "cell_type": "code",
   "execution_count": 7,
   "id": "8256d3d4-ce3b-4f98-be45-262d8d5f8a1c",
   "metadata": {},
   "outputs": [
    {
     "data": {
      "text/plain": [
       "(100076, 4)"
      ]
     },
     "execution_count": 7,
     "metadata": {},
     "output_type": "execute_result"
    }
   ],
   "source": [
    "data.shape"
   ]
  },
  {
   "cell_type": "code",
   "execution_count": 8,
   "id": "7d2488c1-6552-4dec-917f-3f8e431e4c70",
   "metadata": {},
   "outputs": [
    {
     "data": {
      "text/plain": [
       "UserId       object\n",
       "ProductId    object\n",
       "Rating        int64\n",
       "Timestamp     int64\n",
       "dtype: object"
      ]
     },
     "execution_count": 8,
     "metadata": {},
     "output_type": "execute_result"
    }
   ],
   "source": [
    "data.dtypes"
   ]
  },
  {
   "cell_type": "code",
   "execution_count": 9,
   "id": "39d563ff-54a5-44ad-894b-9bad036d34ca",
   "metadata": {},
   "outputs": [
    {
     "data": {
      "text/plain": [
       "UserId       0\n",
       "ProductId    0\n",
       "Rating       0\n",
       "Timestamp    0\n",
       "dtype: int64"
      ]
     },
     "execution_count": 9,
     "metadata": {},
     "output_type": "execute_result"
    }
   ],
   "source": [
    "data.isnull().sum()"
   ]
  },
  {
   "cell_type": "code",
   "execution_count": 10,
   "id": "9c0c4bc2-f379-4e2b-979a-0250ae54fec9",
   "metadata": {},
   "outputs": [
    {
     "data": {
      "text/html": [
       "<div>\n",
       "<style scoped>\n",
       "    .dataframe tbody tr th:only-of-type {\n",
       "        vertical-align: middle;\n",
       "    }\n",
       "\n",
       "    .dataframe tbody tr th {\n",
       "        vertical-align: top;\n",
       "    }\n",
       "\n",
       "    .dataframe thead th {\n",
       "        text-align: right;\n",
       "    }\n",
       "</style>\n",
       "<table border=\"1\" class=\"dataframe\">\n",
       "  <thead>\n",
       "    <tr style=\"text-align: right;\">\n",
       "      <th></th>\n",
       "      <th>UserId</th>\n",
       "      <th>ProductId</th>\n",
       "      <th>Rating</th>\n",
       "      <th>Timestamp</th>\n",
       "    </tr>\n",
       "  </thead>\n",
       "  <tbody>\n",
       "  </tbody>\n",
       "</table>\n",
       "</div>"
      ],
      "text/plain": [
       "Empty DataFrame\n",
       "Columns: [UserId, ProductId, Rating, Timestamp]\n",
       "Index: []"
      ]
     },
     "execution_count": 10,
     "metadata": {},
     "output_type": "execute_result"
    }
   ],
   "source": [
    "data[data.duplicated]"
   ]
  },
  {
   "cell_type": "code",
   "execution_count": 11,
   "id": "8c1022c9-3e2a-485d-8bce-a922c17db961",
   "metadata": {},
   "outputs": [
    {
     "data": {
      "text/html": [
       "<div>\n",
       "<style scoped>\n",
       "    .dataframe tbody tr th:only-of-type {\n",
       "        vertical-align: middle;\n",
       "    }\n",
       "\n",
       "    .dataframe tbody tr th {\n",
       "        vertical-align: top;\n",
       "    }\n",
       "\n",
       "    .dataframe thead th {\n",
       "        text-align: right;\n",
       "    }\n",
       "</style>\n",
       "<table border=\"1\" class=\"dataframe\">\n",
       "  <thead>\n",
       "    <tr style=\"text-align: right;\">\n",
       "      <th></th>\n",
       "      <th>UserId</th>\n",
       "      <th>ProductId</th>\n",
       "      <th>Rating</th>\n",
       "      <th>Timestamp</th>\n",
       "    </tr>\n",
       "  </thead>\n",
       "  <tbody>\n",
       "  </tbody>\n",
       "</table>\n",
       "</div>"
      ],
      "text/plain": [
       "Empty DataFrame\n",
       "Columns: [UserId, ProductId, Rating, Timestamp]\n",
       "Index: []"
      ]
     },
     "execution_count": 11,
     "metadata": {},
     "output_type": "execute_result"
    }
   ],
   "source": [
    "data[data.duplicated(keep = False)]"
   ]
  },
  {
   "cell_type": "code",
   "execution_count": 12,
   "id": "3c6a339f-2138-435b-a5ce-1d0320cbfdc4",
   "metadata": {},
   "outputs": [
    {
     "data": {
      "text/plain": [
       "<Axes: >"
      ]
     },
     "execution_count": 12,
     "metadata": {},
     "output_type": "execute_result"
    },
    {
     "data": {
      "image/png": "[encoded data removed]",
      "text/plain": [
       "<Figure size 640x480 with 2 Axes>"
      ]
     },
     "metadata": {},
     "output_type": "display_data"
    }
   ],
   "source": [
    "#Visualize data1 missing values using graph\n",
    "cols = data.columns\n",
    "colours = ['Black', 'Yellow']\n",
    "sns.heatmap(data[cols].isnull(),cmap=sns.color_palette(colours),cbar = True)"
   ]
  },
  {
   "cell_type": "markdown",
   "id": "0366ed07-cf90-487e-b0b4-4ae9861ff370",
   "metadata": {},
   "source": [
    "# Observations:\n",
    "# There are no null values in the dataset.\n",
    "# There are no duplicate values in the dataset."
   ]
  },
  {
   "cell_type": "code",
   "execution_count": 14,
   "id": "da1d7408-7310-43ed-9b56-22735962e720",
   "metadata": {},
   "outputs": [
    {
     "name": "stdout",
     "output_type": "stream",
     "text": [
      "Median of Rating:  3.0\n",
      "Mean of Rating:  2.9975618529917263\n"
     ]
    }
   ],
   "source": [
    "median_Rating = data[\"Rating\"].median()\n",
    "mean_Rating = data[\"Rating\"].mean()\n",
    "print(\"Median of Rating: \", median_Rating)\n",
    "print(\"Mean of Rating: \", mean_Rating)"
   ]
  },
  {
   "cell_type": "code",
   "execution_count": 15,
   "id": "1f4f20e6-fe06-468e-b8ba-3063d0378988",
   "metadata": {},
   "outputs": [
    {
     "name": "stdout",
     "output_type": "stream",
     "text": [
      "Median of Timestamp:  1467458944.0\n",
      "Mean of Timestamp:  1467586188.0292277\n"
     ]
    }
   ],
   "source": [
    "median_timestamp = data[\"Timestamp\"].median()\n",
    "mean_timestamp = data[\"Timestamp\"].mean()\n",
    "print(\"Median of Timestamp: \", median_timestamp)\n",
    "print(\"Mean of Timestamp: \", mean_timestamp)"
   ]
  },
  {
   "cell_type": "code",
   "execution_count": 16,
   "id": "5b06292e-da12-43e2-878e-34e537a79638",
   "metadata": {},
   "outputs": [
    {
     "name": "stdout",
     "output_type": "stream",
     "text": [
      "Rating\n",
      "2    20193\n",
      "4    20059\n",
      "1    19981\n",
      "5    19926\n",
      "3    19917\n",
      "Name: count, dtype: int64\n",
      "2\n"
     ]
    }
   ],
   "source": [
    "#Find the mode values of categorical column (Rating)\n",
    "print(data[\"Rating\"].value_counts())\n",
    "mode_rating = data[\"Rating\"].mode()[0]\n",
    "print(mode_rating)"
   ]
  },
  {
   "cell_type": "code",
   "execution_count": 17,
   "id": "4c335bde-d7df-4e84-ac02-1405c53be3d0",
   "metadata": {},
   "outputs": [
    {
     "data": {
      "text/html": [
       "<div>\n",
       "<style scoped>\n",
       "    .dataframe tbody tr th:only-of-type {\n",
       "        vertical-align: middle;\n",
       "    }\n",
       "\n",
       "    .dataframe tbody tr th {\n",
       "        vertical-align: top;\n",
       "    }\n",
       "\n",
       "    .dataframe thead th {\n",
       "        text-align: right;\n",
       "    }\n",
       "</style>\n",
       "<table border=\"1\" class=\"dataframe\">\n",
       "  <thead>\n",
       "    <tr style=\"text-align: right;\">\n",
       "      <th></th>\n",
       "      <th>UserId</th>\n",
       "      <th>ProductId</th>\n",
       "      <th>Rating</th>\n",
       "      <th>Timestamp</th>\n",
       "    </tr>\n",
       "  </thead>\n",
       "  <tbody>\n",
       "    <tr>\n",
       "      <th>0</th>\n",
       "      <td>User44084</td>\n",
       "      <td>Product8646</td>\n",
       "      <td>3</td>\n",
       "      <td>1513224892</td>\n",
       "    </tr>\n",
       "    <tr>\n",
       "      <th>1</th>\n",
       "      <td>User32096</td>\n",
       "      <td>Product2879</td>\n",
       "      <td>3</td>\n",
       "      <td>1396046321</td>\n",
       "    </tr>\n",
       "    <tr>\n",
       "      <th>2</th>\n",
       "      <td>User48182</td>\n",
       "      <td>Product2150</td>\n",
       "      <td>3</td>\n",
       "      <td>1430840372</td>\n",
       "    </tr>\n",
       "    <tr>\n",
       "      <th>3</th>\n",
       "      <td>User48214</td>\n",
       "      <td>Product4226</td>\n",
       "      <td>4</td>\n",
       "      <td>1264279238</td>\n",
       "    </tr>\n",
       "    <tr>\n",
       "      <th>4</th>\n",
       "      <td>User27633</td>\n",
       "      <td>Product5750</td>\n",
       "      <td>3</td>\n",
       "      <td>1530777749</td>\n",
       "    </tr>\n",
       "    <tr>\n",
       "      <th>...</th>\n",
       "      <td>...</td>\n",
       "      <td>...</td>\n",
       "      <td>...</td>\n",
       "      <td>...</td>\n",
       "    </tr>\n",
       "    <tr>\n",
       "      <th>100071</th>\n",
       "      <td>User28844</td>\n",
       "      <td>Product7689</td>\n",
       "      <td>5</td>\n",
       "      <td>1528133693</td>\n",
       "    </tr>\n",
       "    <tr>\n",
       "      <th>100072</th>\n",
       "      <td>User24768</td>\n",
       "      <td>Product6914</td>\n",
       "      <td>5</td>\n",
       "      <td>1627781180</td>\n",
       "    </tr>\n",
       "    <tr>\n",
       "      <th>100073</th>\n",
       "      <td>User9547</td>\n",
       "      <td>Product2205</td>\n",
       "      <td>3</td>\n",
       "      <td>1501029965</td>\n",
       "    </tr>\n",
       "    <tr>\n",
       "      <th>100074</th>\n",
       "      <td>User47066</td>\n",
       "      <td>Product4386</td>\n",
       "      <td>2</td>\n",
       "      <td>1311893418</td>\n",
       "    </tr>\n",
       "    <tr>\n",
       "      <th>100075</th>\n",
       "      <td>User26984</td>\n",
       "      <td>Product3638</td>\n",
       "      <td>4</td>\n",
       "      <td>1274091928</td>\n",
       "    </tr>\n",
       "  </tbody>\n",
       "</table>\n",
       "<p>100076 rows × 4 columns</p>\n",
       "</div>"
      ],
      "text/plain": [
       "           UserId    ProductId  Rating   Timestamp\n",
       "0       User44084  Product8646       3  1513224892\n",
       "1       User32096  Product2879       3  1396046321\n",
       "2       User48182  Product2150       3  1430840372\n",
       "3       User48214  Product4226       4  1264279238\n",
       "4       User27633  Product5750       3  1530777749\n",
       "...           ...          ...     ...         ...\n",
       "100071  User28844  Product7689       5  1528133693\n",
       "100072  User24768  Product6914       5  1627781180\n",
       "100073   User9547  Product2205       3  1501029965\n",
       "100074  User47066  Product4386       2  1311893418\n",
       "100075  User26984  Product3638       4  1274091928\n",
       "\n",
       "[100076 rows x 4 columns]"
      ]
     },
     "execution_count": 17,
     "metadata": {},
     "output_type": "execute_result"
    }
   ],
   "source": [
    "data.reset_index(drop = True)"
   ]
  },
  {
   "cell_type": "code",
   "execution_count": 18,
   "id": "3e2dcc7b-8f4b-4e4f-8a1e-8ddec45b289d",
   "metadata": {},
   "outputs": [
    {
     "data": {
      "image/png": "[encoded data removed]",
      "text/plain": [
       "<Figure size 800x600 with 2 Axes>"
      ]
     },
     "metadata": {},
     "output_type": "display_data"
    }
   ],
   "source": [
    "#Create a figure with two subplots, stacked vertically\n",
    "fig, axes = plt.subplots(2,1, figsize=(8,6), gridspec_kw={'height_ratios' : [1,3]})\n",
    "\n",
    "#Plot the boxplot in the first (top) subplot\n",
    "sns.boxplot(data=data[\"Rating\"], ax=axes[0], color='skyblue', width=0.5, orient = 'h')\n",
    "axes[0].set_title(\"Boxplot\")\n",
    "axes[0].set_xlabel(\"Ratings\")\n",
    "\n",
    "#Plot the histogram with KDE curve in the second (bottom) subplot\n",
    "sns.histplot(data[\"Rating\"], kde=True, ax=axes[1], color='purple', bins=30)\n",
    "axes[1].set_title(\"Histogram with KDE\")\n",
    "axes[1].set_xlabel(\"Ratings\")\n",
    "axes[1].set_ylabel(\"Frequency\")\n",
    "\n",
    "#Adjust layout for better spacing\n",
    "plt.tight_layout()\n",
    "\n",
    "#Show the plot\n",
    "plt.show()"
   ]
  },
  {
   "cell_type": "code",
   "execution_count": 19,
   "id": "20a68471-49de-452d-9f72-9bafb8f12350",
   "metadata": {},
   "outputs": [
    {
     "data": {
      "text/plain": [
       "<seaborn.axisgrid.PairGrid at 0x16f5c6270b0>"
      ]
     },
     "execution_count": 19,
     "metadata": {},
     "output_type": "execute_result"
    },
    {
     "data": {
      "image/png": "[encoded data removed]",
      "text/plain": [
       "<Figure size 500x500 with 6 Axes>"
      ]
     },
     "metadata": {},
     "output_type": "display_data"
    }
   ],
   "source": [
    "sns.pairplot(data)"
   ]
  },
  {
   "cell_type": "code",
   "execution_count": 20,
   "id": "ab820c40-bf1e-4548-a5ea-58726984d4a6",
   "metadata": {},
   "outputs": [
    {
     "data": {
      "text/plain": [
       "<Axes: >"
      ]
     },
     "execution_count": 20,
     "metadata": {},
     "output_type": "execute_result"
    },
    {
     "data": {
      "image/png": "[encoded data removed]",
      "text/plain": [
       "<Figure size 640x480 with 1 Axes>"
      ]
     },
     "metadata": {},
     "output_type": "display_data"
    }
   ],
   "source": [
    "sns.barplot(data)"
   ]
  },
  {
   "cell_type": "code",
   "execution_count": 21,
   "id": "4abd4299-54e1-469c-927c-380f2b757997",
   "metadata": {},
   "outputs": [
    {
     "name": "stdout",
     "output_type": "stream",
     "text": [
      "          UserId    ProductId  Rating   Timestamp\n",
      "0      User44084  Product8646       3  1513224892\n",
      "1      User32096  Product2879       3  1396046321\n",
      "2      User48182  Product2150       3  1430840372\n",
      "3      User48214  Product4226       4  1264279238\n",
      "4      User27633  Product5750       3  1530777749\n",
      "...          ...          ...     ...         ...\n",
      "43222  User39127  Product5582       2  1561248410\n",
      "43223  User26595   Product596       1  1440601123\n",
      "43224  User31054  Product9750       4  1353616122\n",
      "43225  User44315  Product8000       4  1348557487\n",
      "43226  User14524  Product5985       2  1614335316\n",
      "\n",
      "[43227 rows x 4 columns]\n"
     ]
    }
   ],
   "source": [
    "print(data.iloc[0:43227])"
   ]
  },
  {
   "cell_type": "code",
   "execution_count": 22,
   "id": "ae736ab0-044f-4614-8f95-fc86c72260ca",
   "metadata": {},
   "outputs": [
    {
     "name": "stdout",
     "output_type": "stream",
     "text": [
      "['User44084' 'User32096' 'User48182' ... 'User39764' 'User28164'\n",
      " 'User3767']\n"
     ]
    },
    {
     "data": {
      "text/plain": [
       "43227"
      ]
     },
     "execution_count": 22,
     "metadata": {},
     "output_type": "execute_result"
    }
   ],
   "source": [
    "print(data.UserId.unique())\n",
    "len(data.UserId.unique())"
   ]
  },
  {
   "cell_type": "code",
   "execution_count": 23,
   "id": "1882c0d3-bac3-499a-b2ed-520d71bd62ff",
   "metadata": {},
   "outputs": [
    {
     "data": {
      "image/png": "[encoded data removed]",
      "text/plain": [
       "<Figure size 1200x600 with 1 Axes>"
      ]
     },
     "metadata": {},
     "output_type": "display_data"
    }
   ],
   "source": [
    "# Group by product and count the number of ratings\n",
    "product_rating_counts = data.groupby('ProductId')['UserId'].count()  # Assuming columns: productid, userid, ratings\n",
    "product_rating_counts = product_rating_counts.sort_values(ascending=False)\n",
    "\n",
    "# Plot the bar chart\n",
    "plt.figure(figsize=(12, 6))\n",
    "product_rating_counts.head(10).plot(kind='bar', color='orange')  # Display the top 10 products\n",
    "plt.title('Top 10 Products by Number of Ratings')\n",
    "plt.xlabel('Product ID')\n",
    "plt.ylabel('Number of Ratings')\n",
    "plt.xticks(rotation=45)\n",
    "plt.show()"
   ]
  },
  {
   "cell_type": "code",
   "execution_count": 24,
   "id": "1cef1181-2ab0-4b2f-b594-e9693f74a4d4",
   "metadata": {},
   "outputs": [
    {
     "name": "stdout",
     "output_type": "stream",
     "text": [
      "ProductId  Product1  Product10  Product100  Product1000  Product1001  \\\n",
      "UserId                                                                 \n",
      "User1           0.0        0.0         0.0          0.0          0.0   \n",
      "User10          0.0        0.0         0.0          0.0          0.0   \n",
      "User100         0.0        0.0         0.0          0.0          0.0   \n",
      "User1000        0.0        0.0         0.0          0.0          0.0   \n",
      "User10001       0.0        0.0         0.0          0.0          0.0   \n",
      "...             ...        ...         ...          ...          ...   \n",
      "User9995        0.0        0.0         3.0          0.0          0.0   \n",
      "User9996        0.0        0.0         0.0          0.0          0.0   \n",
      "User9997        0.0        0.0         0.0          0.0          0.0   \n",
      "User9998        0.0        0.0         0.0          0.0          0.0   \n",
      "User9999        0.0        0.0         0.0          0.0          0.0   \n",
      "\n",
      "ProductId  Product1002  Product1003  Product1004  Product1005  Product1006  \\\n",
      "UserId                                                                       \n",
      "User1              0.0          0.0          0.0          0.0          0.0   \n",
      "User10             0.0          0.0          0.0          0.0          0.0   \n",
      "User100            0.0          0.0          0.0          0.0          0.0   \n",
      "User1000           0.0          0.0          0.0          0.0          0.0   \n",
      "User10001          0.0          0.0          0.0          0.0          0.0   \n",
      "...                ...          ...          ...          ...          ...   \n",
      "User9995           0.0          0.0          0.0          0.0          0.0   \n",
      "User9996           0.0          0.0          0.0          0.0          0.0   \n",
      "User9997           0.0          0.0          0.0          0.0          0.0   \n",
      "User9998           0.0          0.0          0.0          0.0          0.0   \n",
      "User9999           0.0          0.0          0.0          0.0          0.0   \n",
      "\n",
      "ProductId  ...  Product9990  Product9991  Product9992  Product9993  \\\n",
      "UserId     ...                                                       \n",
      "User1      ...          0.0          0.0          0.0          0.0   \n",
      "User10     ...          0.0          0.0          0.0          0.0   \n",
      "User100    ...          0.0          0.0          0.0          0.0   \n",
      "User1000   ...          0.0          0.0          0.0          0.0   \n",
      "User10001  ...          0.0          0.0          0.0          0.0   \n",
      "...        ...          ...          ...          ...          ...   \n",
      "User9995   ...          0.0          0.0          0.0          0.0   \n",
      "User9996   ...          0.0          0.0          0.0          0.0   \n",
      "User9997   ...          0.0          0.0          0.0          0.0   \n",
      "User9998   ...          0.0          0.0          0.0          0.0   \n",
      "User9999   ...          0.0          0.0          0.0          0.0   \n",
      "\n",
      "ProductId  Product9994  Product9995  Product9996  Product9997  Product9998  \\\n",
      "UserId                                                                       \n",
      "User1              0.0          0.0          0.0          0.0          0.0   \n",
      "User10             0.0          0.0          0.0          0.0          0.0   \n",
      "User100            0.0          0.0          0.0          0.0          0.0   \n",
      "User1000           0.0          0.0          0.0          0.0          0.0   \n",
      "User10001          0.0          0.0          0.0          0.0          0.0   \n",
      "...                ...          ...          ...          ...          ...   \n",
      "User9995           0.0          0.0          0.0          0.0          0.0   \n",
      "User9996           0.0          0.0          0.0          0.0          0.0   \n",
      "User9997           0.0          0.0          0.0          0.0          0.0   \n",
      "User9998           0.0          0.0          0.0          0.0          0.0   \n",
      "User9999           0.0          0.0          0.0          0.0          0.0   \n",
      "\n",
      "ProductId  Product9999  \n",
      "UserId                  \n",
      "User1              0.0  \n",
      "User10             0.0  \n",
      "User100            0.0  \n",
      "User1000           0.0  \n",
      "User10001          0.0  \n",
      "...                ...  \n",
      "User9995           0.0  \n",
      "User9996           0.0  \n",
      "User9997           0.0  \n",
      "User9998           0.0  \n",
      "User9999           0.0  \n",
      "\n",
      "[43227 rows x 9999 columns]\n"
     ]
    }
   ],
   "source": [
    "pivot_table = data.pivot_table(index='UserId', columns='ProductId', values='Rating', fill_value=0)\n",
    "print(pivot_table)"
   ]
  },
  {
   "cell_type": "code",
   "execution_count": 25,
   "id": "d2801328-bcad-4e22-8067-cbbee0a8d06f",
   "metadata": {},
   "outputs": [
    {
     "name": "stdout",
     "output_type": "stream",
     "text": [
      "Preview of the dataset:\n",
      "       UserId    ProductId  Rating   Timestamp\n",
      "0  User44084  Product8646       3  1513224892\n",
      "1  User32096  Product2879       3  1396046321\n",
      "2  User48182  Product2150       3  1430840372\n",
      "3  User48214  Product4226       4  1264279238\n",
      "4  User27633  Product5750       3  1530777749\n",
      "\n",
      "User-to-User Similarities:\n",
      "     0    1    2    3    4    5    6    7    8    9    ...  990  991  992  \\\n",
      "0    1.0  1.0  1.0  1.0  1.0  1.0  1.0  1.0  1.0  1.0  ...  1.0  1.0  1.0   \n",
      "1    1.0  1.0  1.0  1.0  1.0  1.0  1.0  1.0  1.0  1.0  ...  1.0  1.0  1.0   \n",
      "2    1.0  1.0  1.0  1.0  1.0  1.0  1.0  1.0  1.0  1.0  ...  1.0  1.0  1.0   \n",
      "3    1.0  1.0  1.0  1.0  1.0  1.0  1.0  1.0  1.0  1.0  ...  1.0  1.0  1.0   \n",
      "4    1.0  1.0  1.0  1.0  1.0  1.0  1.0  1.0  1.0  1.0  ...  1.0  1.0  1.0   \n",
      "..   ...  ...  ...  ...  ...  ...  ...  ...  ...  ...  ...  ...  ...  ...   \n",
      "995  1.0  1.0  1.0  1.0  1.0  1.0  1.0  1.0  1.0  1.0  ...  1.0  1.0  1.0   \n",
      "996  1.0  1.0  1.0  1.0  1.0  1.0  1.0  1.0  1.0  1.0  ...  1.0  1.0  1.0   \n",
      "997  1.0  1.0  1.0  1.0  1.0  1.0  1.0  1.0  1.0  1.0  ...  1.0  1.0  1.0   \n",
      "998  1.0  1.0  1.0  1.0  1.0  1.0  1.0  1.0  1.0  1.0  ...  1.0  1.0  1.0   \n",
      "999  1.0  1.0  1.0  1.0  1.0  1.0  1.0  1.0  1.0  1.0  ...  1.0  1.0  1.0   \n",
      "\n",
      "     993  994  995  996  997  998  999  \n",
      "0    1.0  1.0  1.0  1.0  1.0  1.0  1.0  \n",
      "1    1.0  1.0  1.0  1.0  1.0  1.0  1.0  \n",
      "2    1.0  1.0  1.0  1.0  1.0  1.0  1.0  \n",
      "3    1.0  1.0  1.0  1.0  1.0  1.0  1.0  \n",
      "4    1.0  1.0  1.0  1.0  1.0  1.0  1.0  \n",
      "..   ...  ...  ...  ...  ...  ...  ...  \n",
      "995  1.0  1.0  1.0  1.0  1.0  1.0  1.0  \n",
      "996  1.0  1.0  1.0  1.0  1.0  1.0  1.0  \n",
      "997  1.0  1.0  1.0  1.0  1.0  1.0  1.0  \n",
      "998  1.0  1.0  1.0  1.0  1.0  1.0  1.0  \n",
      "999  1.0  1.0  1.0  1.0  1.0  1.0  1.0  \n",
      "\n",
      "[1000 rows x 1000 columns]\n",
      "\n",
      "Product-to-Product Similarities:\n",
      "     0    1         2         3\n",
      "0  0.0  0.0  0.000000  0.000000\n",
      "1  0.0  0.0  0.000000  0.000000\n",
      "2  0.0  0.0  1.000000  0.904099\n",
      "3  0.0  0.0  0.904099  1.000000\n",
      "\n",
      "Users similar to 0: [999, 328, 341]\n",
      "Products similar to UserId: ['Timestamp', 'Rating', 'ProductId']\n"
     ]
    }
   ],
   "source": [
    "# Preview the data to understand its structure\n",
    "print(\"Preview of the dataset:\\n\", data.head())\n",
    "\n",
    "# Select a subset of the dataset (e.g., first few rows and columns)\n",
    "data_subset = data.iloc[:1000, :500]  # Example: first 10 rows and 5 columns\n",
    "\n",
    "# Convert all columns to numeric, handling errors\n",
    "data_subset = data_subset.apply(pd.to_numeric, errors='coerce')\n",
    "\n",
    "# Fill NaN values with 0 (or another appropriate value)\n",
    "data_subset = data_subset.fillna(0)\n",
    "\n",
    "# Convert the DataFrame to a numpy array\n",
    "interaction_matrix = data_subset.values\n",
    "\n",
    "# Calculate User-to-User Similarities\n",
    "user_similarities = cosine_similarity(interaction_matrix)\n",
    "print(\"\\nUser-to-User Similarities:\")\n",
    "print(pd.DataFrame(user_similarities))\n",
    "\n",
    "# Calculate Product-to-Product Similarities\n",
    "product_similarities = cosine_similarity(interaction_matrix.T)\n",
    "print(\"\\nProduct-to-Product Similarities:\")\n",
    "print(pd.DataFrame(product_similarities))\n",
    "\n",
    "# Recommendation Example: Find top similar users and products\n",
    "def recommend_user(user_index, top_n=2):\n",
    "    similar_users = np.argsort(user_similarities[user_index])[::-1][:top_n+1]\n",
    "    similar_users = [data_subset.index[i] for i in similar_users if i != user_index]\n",
    "    return similar_users\n",
    "\n",
    "def recommend_product(product_index, top_n=2):\n",
    "    similar_products = np.argsort(product_similarities[product_index])[::-1][:top_n+1]\n",
    "    similar_products = [data_subset.columns[i] for i in similar_products if i != product_index]\n",
    "    return similar_products\n",
    "\n",
    "# Example Recommendations:\n",
    "user_idx = 0  # Replace with an actual user index\n",
    "product_idx = 0  # Replace with an actual product index\n",
    "\n",
    "print(f\"\\nUsers similar to {data_subset.index[user_idx]}: {recommend_user(user_idx)}\")\n",
    "print(f\"Products similar to {data_subset.columns[product_idx]}: {recommend_product(product_idx)}\")"
   ]
  },
  {
   "cell_type": "code",
   "execution_count": 27,
   "id": "f2ead6a8-862f-4198-ad6a-3a457b463687",
   "metadata": {},
   "outputs": [
    {
     "name": "stdout",
     "output_type": "stream",
     "text": [
      "Preprocessed Data:\n",
      "       UserId    ProductId  Rating   Timestamp\n",
      "0  User44084  Product8646       3  1513224892\n",
      "1  User32096  Product2879       3  1396046321\n",
      "2  User48182  Product2150       3  1430840372\n",
      "3  User48214  Product4226       4  1264279238\n",
      "4  User27633  Product5750       3  1530777749\n",
      "UserId     ProductId  \n",
      "User27167  Product7668    2\n",
      "User1064   Product755     2\n",
      "User16705  Product6181    2\n",
      "User9450   Product4666    2\n",
      "User4030   Product6065    2\n",
      "                         ..\n",
      "User24874  Product4662    1\n",
      "           Product414     1\n",
      "           Product3726    1\n",
      "           Product1700    1\n",
      "User9999   Product6246    1\n",
      "Name: count, Length: 100066, dtype: int64\n"
     ]
    }
   ],
   "source": [
    "# Ensure that UserId and ProductId remain as their original values\n",
    "data['UserId'] = data['UserId']\n",
    "data['ProductId'] = data['ProductId']\n",
    "\n",
    "# Convert other columns to numeric, handling errors\n",
    "numeric_columns = ['Rating', 'Timestamp']\n",
    "for col in numeric_columns:\n",
    "    data[col] = pd.to_numeric(data[col], errors='coerce')\n",
    "\n",
    "# Fill missing values in numeric columns with 0\n",
    "data = data.fillna(0)\n",
    "print(\"Preprocessed Data:\\n\", data.head())\n",
    "print(data[['UserId', 'ProductId']].value_counts())  # Ensure values are not zeroes"
   ]
  },
  {
   "cell_type": "code",
   "execution_count": 28,
   "id": "5fbb13d4-7e9a-4e22-8004-5f2e1c46edb2",
   "metadata": {},
   "outputs": [
    {
     "name": "stdout",
     "output_type": "stream",
     "text": [
      "\n",
      "User Similarity Table:\n",
      "      0    1    2    3    4    5    6    7    8    9    ...  990  991  992  \\\n",
      "0    1.0  1.0  1.0  1.0  1.0  1.0  1.0  1.0  1.0  1.0  ...  1.0  1.0  1.0   \n",
      "1    1.0  1.0  1.0  1.0  1.0  1.0  1.0  1.0  1.0  1.0  ...  1.0  1.0  1.0   \n",
      "2    1.0  1.0  1.0  1.0  1.0  1.0  1.0  1.0  1.0  1.0  ...  1.0  1.0  1.0   \n",
      "3    1.0  1.0  1.0  1.0  1.0  1.0  1.0  1.0  1.0  1.0  ...  1.0  1.0  1.0   \n",
      "4    1.0  1.0  1.0  1.0  1.0  1.0  1.0  1.0  1.0  1.0  ...  1.0  1.0  1.0   \n",
      "..   ...  ...  ...  ...  ...  ...  ...  ...  ...  ...  ...  ...  ...  ...   \n",
      "995  1.0  1.0  1.0  1.0  1.0  1.0  1.0  1.0  1.0  1.0  ...  1.0  1.0  1.0   \n",
      "996  1.0  1.0  1.0  1.0  1.0  1.0  1.0  1.0  1.0  1.0  ...  1.0  1.0  1.0   \n",
      "997  1.0  1.0  1.0  1.0  1.0  1.0  1.0  1.0  1.0  1.0  ...  1.0  1.0  1.0   \n",
      "998  1.0  1.0  1.0  1.0  1.0  1.0  1.0  1.0  1.0  1.0  ...  1.0  1.0  1.0   \n",
      "999  1.0  1.0  1.0  1.0  1.0  1.0  1.0  1.0  1.0  1.0  ...  1.0  1.0  1.0   \n",
      "\n",
      "     993  994  995  996  997  998  999  \n",
      "0    1.0  1.0  1.0  1.0  1.0  1.0  1.0  \n",
      "1    1.0  1.0  1.0  1.0  1.0  1.0  1.0  \n",
      "2    1.0  1.0  1.0  1.0  1.0  1.0  1.0  \n",
      "3    1.0  1.0  1.0  1.0  1.0  1.0  1.0  \n",
      "4    1.0  1.0  1.0  1.0  1.0  1.0  1.0  \n",
      "..   ...  ...  ...  ...  ...  ...  ...  \n",
      "995  1.0  1.0  1.0  1.0  1.0  1.0  1.0  \n",
      "996  1.0  1.0  1.0  1.0  1.0  1.0  1.0  \n",
      "997  1.0  1.0  1.0  1.0  1.0  1.0  1.0  \n",
      "998  1.0  1.0  1.0  1.0  1.0  1.0  1.0  \n",
      "999  1.0  1.0  1.0  1.0  1.0  1.0  1.0  \n",
      "\n",
      "[1000 rows x 1000 columns]\n",
      "\n",
      "Product Similarity Table:\n",
      "            UserId  ProductId    Rating  Timestamp\n",
      "UserId        0.0        0.0  0.000000   0.000000\n",
      "ProductId     0.0        0.0  0.000000   0.000000\n",
      "Rating        0.0        0.0  1.000000   0.904099\n",
      "Timestamp     0.0        0.0  0.904099   1.000000\n",
      "\n",
      "Train Set Shape: (800, 4)\n",
      "Test Set Shape: (200, 4)\n"
     ]
    }
   ],
   "source": [
    "interaction_matrix = data_subset.values\n",
    "\n",
    "# Calculate user-to-user similarities\n",
    "user_similarities = cosine_similarity(interaction_matrix)\n",
    "\n",
    "# Create a user similarity DataFrame\n",
    "user_similarity_df = pd.DataFrame(user_similarities, index=data_subset.index, columns=data_subset.index)\n",
    "print(\"\\nUser Similarity Table:\\n\", user_similarity_df)\n",
    "\n",
    "# Calculate product-to-product similarities (transpose the matrix for products)\n",
    "product_similarities = cosine_similarity(interaction_matrix.T)\n",
    "\n",
    "# Create a product similarity DataFrame\n",
    "product_similarity_df = pd.DataFrame(product_similarities, index=data_subset.columns, columns=data_subset.columns)\n",
    "print(\"\\nProduct Similarity Table:\\n\", product_similarity_df)\n",
    "\n",
    "# Step 4: Split the dataset into training and test sets\n",
    "# Convert DataFrame to numpy array for splitting\n",
    "X = interaction_matrix\n",
    "\n",
    "# Create a dummy target variable (can be customized as per your requirement)\n",
    "# Here, we use the sum of each row as the target for demonstration purposes\n",
    "y = np.sum(X, axis=1)\n",
    "\n",
    "# Split into train and test datasets (80% train, 20% test)\n",
    "X_train, X_test, y_train, y_test = train_test_split(X, y, test_size=0.2, random_state=42)\n",
    "\n",
    "print(\"\\nTrain Set Shape:\", X_train.shape)\n",
    "print(\"Test Set Shape:\", X_test.shape)"
   ]
  },
  {
   "cell_type": "code",
   "execution_count": 30,
   "id": "b3739394-c00a-4e64-bbcf-83d5afbf8f72",
   "metadata": {},
   "outputs": [
    {
     "name": "stdout",
     "output_type": "stream",
     "text": [
      "Users similar to User User44084: ['User18800', 'User2446']\n",
      "Products similar to Product Product8646: ['Product2150', 'Product2246']\n"
     ]
    }
   ],
   "source": [
    "import pandas as pd\n",
    "from sklearn.metrics.pairwise import cosine_similarity\n",
    "\n",
    "# Step 1: Load your dataset\n",
    "# Replace 'your_dataset.csv' with your actual dataset\n",
    "data = pd.read_csv('Product_Ratings_Dataset.xls')\n",
    "\n",
    "# Step 2: Create a subset of the dataset\n",
    "# Example: Select the first 10 rows\n",
    "subset = data.iloc[:10]  # Modify the range to select a different subset\n",
    "\n",
    "# Ensure the subset contains the necessary columns: UserId, ProductId, Rating\n",
    "# Fill missing values with 0 if necessary\n",
    "subset = subset.fillna(0)\n",
    "\n",
    "# Step 3: Create an interaction matrix\n",
    "interaction_matrix = pd.pivot_table(subset, values='Rating', index='UserId', columns='ProductId', fill_value=0)\n",
    "\n",
    "# Step 4: Compute User-to-User Similarities\n",
    "user_similarities = cosine_similarity(interaction_matrix)\n",
    "user_similarity_df = pd.DataFrame(user_similarities, index=interaction_matrix.index.astype(str), columns=interaction_matrix.index.astype(str))\n",
    "\n",
    "# Step 5: Compute Product-to-Product Similarities\n",
    "product_similarities = cosine_similarity(interaction_matrix.T)\n",
    "product_similarity_df = pd.DataFrame(product_similarities, index=interaction_matrix.columns.astype(str), columns=interaction_matrix.columns.astype(str))\n",
    "\n",
    "# Step 6: Generate Recommendations\n",
    "def recommend_users(user_id, top_n=2):\n",
    "    \"\"\"Recommend top N similar users for a given user.\"\"\"\n",
    "    user_id = str(user_id)  # Ensure user_id is a string for lookup\n",
    "    if user_id not in user_similarity_df.index:\n",
    "        return []  # Return an empty list if the user_id doesn't exist\n",
    "    similar_users = user_similarity_df.loc[user_id].sort_values(ascending=False).index[1:top_n+1]\n",
    "    return similar_users.tolist()\n",
    "\n",
    "def recommend_products(product_id, top_n=2):\n",
    "    \"\"\"Recommend top N similar products for a given product.\"\"\"\n",
    "    product_id = str(product_id)  # Ensure product_id is a string for lookup\n",
    "    if product_id not in product_similarity_df.index:\n",
    "        return []  # Return an empty list if the product_id doesn't exist\n",
    "    similar_products = product_similarity_df.loc[product_id].sort_values(ascending=False).index[1:top_n+1]\n",
    "    return similar_products.tolist()\n",
    "\n",
    "# Example usage:\n",
    "# Use valid UserId and ProductId from the selected subset\n",
    "user_id = subset['UserId'].iloc[0]  # Take the first user ID from the subset\n",
    "product_id = subset['ProductId'].iloc[0]  # Take the first product ID from the subset\n",
    "print(f\"Users similar to User {user_id}: {recommend_users(user_id)}\")\n",
    "print(f\"Products similar to Product {product_id}: {recommend_products(product_id)}\")"
   ]
  },
  {
   "cell_type": "code",
   "execution_count": null,
   "id": "37bb0baa-3633-4e1a-9434-6b4dbee8cd34",
   "metadata": {},
   "outputs": [],
   "source": []
  }
 ],
 "metadata": {
  "kernelspec": {
   "display_name": "Python 3 (ipykernel)",
   "language": "python",
   "name": "python3"
  },
  "language_info": {
   "codemirror_mode": {
    "name": "ipython",
    "version": 3
   },
   "file_extension": ".py",
   "mimetype": "text/x-python",
   "name": "python",
   "nbconvert_exporter": "python",
   "pygments_lexer": "ipython3",
   "version": "3.12.7"
  }
 },
 "nbformat": 4,
 "nbformat_minor": 5
}
